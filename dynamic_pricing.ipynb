{
 "cells": [
  {
   "cell_type": "code",
   "execution_count": 1,
   "id": "e504a399-2ebe-4c0b-bc7b-c4ea8f5b3ce9",
   "metadata": {},
   "outputs": [
    {
     "ename": "SyntaxError",
     "evalue": "invalid syntax (917172459.py, line 3)",
     "output_type": "error",
     "traceback": [
      "\u001b[1;36m  Cell \u001b[1;32mIn[1], line 3\u001b[1;36m\u001b[0m\n\u001b[1;33m    This notebook demonstrates a simple dynamic pricing experiment using an **ε-greedy bandit**.\u001b[0m\n\u001b[1;37m         ^\u001b[0m\n\u001b[1;31mSyntaxError\u001b[0m\u001b[1;31m:\u001b[0m invalid syntax\n"
     ]
    }
   ],
   "source": [
    "# Dynamic Pricing Bandit — Jupyter Demo\n",
    "\n",
    "This notebook demonstrates a simple dynamic pricing experiment using an **ε-greedy bandit**.\n",
    "- We generate synthetic customer visits (price offered and conversion).\n",
    "- We run an ε-greedy learner that chooses prices and updates from observed rewards.\n",
    "- We visualize the learned average reward per price and cumulative metrics.\n",
    "\n",
    "This is a minimal, interview-friendly demo: easy to explain and extend.\n"
   ]
  },
  {
   "cell_type": "code",
   "execution_count": 2,
   "id": "9daca82d-9253-4493-8c63-4cc9d287227a",
   "metadata": {},
   "outputs": [],
   "source": [
    "# Run this once to ensure required libraries are installed.\n",
    "# You can comment it out after your environment is ready.\n",
    "!pip install --quiet pandas numpy matplotlib scikit-learn\n"
   ]
  },
  {
   "cell_type": "code",
   "execution_count": 4,
   "id": "2be8fecc-49d6-4492-8d7a-c4b59ebe09be",
   "metadata": {},
   "outputs": [
    {
     "ename": "SyntaxError",
     "evalue": "invalid character '—' (U+2014) (3259257566.py, line 5)",
     "output_type": "error",
     "traceback": [
      "\u001b[1;36m  Cell \u001b[1;32mIn[4], line 5\u001b[1;36m\u001b[0m\n\u001b[1;33m    This dataset is only for demo — in a real project the \"environment\" would be a simulator or real logs.\u001b[0m\n\u001b[1;37m                                  ^\u001b[0m\n\u001b[1;31mSyntaxError\u001b[0m\u001b[1;31m:\u001b[0m invalid character '—' (U+2014)\n"
     ]
    }
   ],
   "source": [
    "## Synthetic data generation\n",
    "\n",
    "We simulate N customer visits. For each visit we pick a \"true\" price (one of a discrete set)\n",
    "and a conversion outcome (0/1) using a simple rule so lower prices have higher conversion.\n",
    "This dataset is only for demo — in a real project the \"environment\" would be a simulator or real logs.\n"
   ]
  },
  {
   "cell_type": "code",
   "execution_count": 3,
   "id": "0a987544-14d9-45b4-88f9-e5299e855298",
   "metadata": {},
   "outputs": [
    {
     "data": {
      "text/html": [
       "<div>\n",
       "<style scoped>\n",
       "    .dataframe tbody tr th:only-of-type {\n",
       "        vertical-align: middle;\n",
       "    }\n",
       "\n",
       "    .dataframe tbody tr th {\n",
       "        vertical-align: top;\n",
       "    }\n",
       "\n",
       "    .dataframe thead th {\n",
       "        text-align: right;\n",
       "    }\n",
       "</style>\n",
       "<table border=\"1\" class=\"dataframe\">\n",
       "  <thead>\n",
       "    <tr style=\"text-align: right;\">\n",
       "      <th></th>\n",
       "      <th>true_price</th>\n",
       "      <th>conversion_prob</th>\n",
       "      <th>converted</th>\n",
       "    </tr>\n",
       "  </thead>\n",
       "  <tbody>\n",
       "    <tr>\n",
       "      <th>0</th>\n",
       "      <td>120</td>\n",
       "      <td>0.166835</td>\n",
       "      <td>0</td>\n",
       "    </tr>\n",
       "    <tr>\n",
       "      <th>1</th>\n",
       "      <td>160</td>\n",
       "      <td>0.107523</td>\n",
       "      <td>0</td>\n",
       "    </tr>\n",
       "    <tr>\n",
       "      <th>2</th>\n",
       "      <td>140</td>\n",
       "      <td>0.129008</td>\n",
       "      <td>0</td>\n",
       "    </tr>\n",
       "    <tr>\n",
       "      <th>3</th>\n",
       "      <td>140</td>\n",
       "      <td>0.098462</td>\n",
       "      <td>0</td>\n",
       "    </tr>\n",
       "    <tr>\n",
       "      <th>4</th>\n",
       "      <td>100</td>\n",
       "      <td>0.202032</td>\n",
       "      <td>0</td>\n",
       "    </tr>\n",
       "    <tr>\n",
       "      <th>5</th>\n",
       "      <td>100</td>\n",
       "      <td>0.229838</td>\n",
       "      <td>0</td>\n",
       "    </tr>\n",
       "    <tr>\n",
       "      <th>6</th>\n",
       "      <td>100</td>\n",
       "      <td>0.193595</td>\n",
       "      <td>0</td>\n",
       "    </tr>\n",
       "    <tr>\n",
       "      <th>7</th>\n",
       "      <td>160</td>\n",
       "      <td>0.106629</td>\n",
       "      <td>0</td>\n",
       "    </tr>\n",
       "  </tbody>\n",
       "</table>\n",
       "</div>"
      ],
      "text/plain": [
       "   true_price  conversion_prob  converted\n",
       "0         120         0.166835          0\n",
       "1         160         0.107523          0\n",
       "2         140         0.129008          0\n",
       "3         140         0.098462          0\n",
       "4         100         0.202032          0\n",
       "5         100         0.229838          0\n",
       "6         100         0.193595          0\n",
       "7         160         0.106629          0"
      ]
     },
     "execution_count": 3,
     "metadata": {},
     "output_type": "execute_result"
    }
   ],
   "source": [
    "import numpy as np\n",
    "import pandas as pd\n",
    "np.random.seed(42)\n",
    "\n",
    "# Price set (discrete candidate prices)\n",
    "price_levels = np.array([100, 120, 140, 160])\n",
    "\n",
    "# Number of simulated customer visits\n",
    "N = 500\n",
    "\n",
    "# Simulate a \"true\" price offered to each visit (this is synthetic observational data)\n",
    "true_prices = np.random.choice(price_levels, size=N, p=[0.25,0.25,0.25,0.25])\n",
    "\n",
    "# Simulate conversion probability as a simple decreasing function of price\n",
    "# (higher price -> lower conversion prob). Add noise and variety per-customer.\n",
    "base_conversion_by_price = {100: 0.22, 120: 0.16, 140: 0.11, 160: 0.07}\n",
    "noise = np.random.normal(0.0, 0.02, size=N)\n",
    "\n",
    "conversion_probs = np.array([base_conversion_by_price[p] for p in true_prices]) + noise\n",
    "conversion_probs = np.clip(conversion_probs, 0.0, 1.0)\n",
    "\n",
    "conversions = (np.random.rand(N) < conversion_probs).astype(int)\n",
    "\n",
    "df = pd.DataFrame({\n",
    "    \"true_price\": true_prices,\n",
    "    \"conversion_prob\": conversion_probs,\n",
    "    \"converted\": conversions\n",
    "})\n",
    "\n",
    "df.head(8)\n"
   ]
  },
  {
   "cell_type": "code",
   "execution_count": null,
   "id": "c59c37bf-d36c-4c47-abc9-2fc2ebc73656",
   "metadata": {},
   "outputs": [],
   "source": [
    "## Bandit: ε-greedy\n",
    "\n",
    "We implement a small ε-greedy policy:\n",
    "- With probability ε we explore (choose a random price).\n",
    "- Otherwise we exploit: pick the price with highest observed average reward so far.\n",
    "\n",
    "Reward used here is **revenue** = price * converted. (This keeps the objective aligned with revenue)\n",
    "You can change reward to emphasize conversion instead (e.g., binary converted).\n"
   ]
  },
  {
   "cell_type": "code",
   "execution_count": 5,
   "id": "e8594e56-67d7-44c6-9535-b1d0b08dbbf4",
   "metadata": {},
   "outputs": [],
   "source": [
    "import random\n",
    "from collections import defaultdict\n",
    "\n",
    "class EpsilonGreedyBandit:\n",
    "    def __init__(self, prices, eps=0.1):\n",
    "        self.prices = list(prices)\n",
    "        self.eps = eps\n",
    "        self.counts = defaultdict(int)    # times each price was chosen\n",
    "        self.rewards = defaultdict(float) # sum of rewards for each price\n",
    "\n",
    "    def choose_price(self):\n",
    "        # explore\n",
    "        if random.random() < self.eps:\n",
    "            return random.choice(self.prices)\n",
    "        # exploit: choose price with highest average reward so far\n",
    "        avg_reward = {p: (self.rewards[p] / self.counts[p]) if self.counts[p] > 0 else 0.0 for p in self.prices}\n",
    "        # if all counts are zero, max will return first price — that's fine\n",
    "        return max(self.prices, key=lambda p: avg_reward[p])\n",
    "\n",
    "    def update(self, price, reward):\n",
    "        self.counts[price] += 1\n",
    "        self.rewards[price] += reward\n",
    "\n",
    "    def average_rewards(self):\n",
    "        return {p: (self.rewards[p] / self.counts[p]) if self.counts[p] > 0 else 0.0 for p in self.prices}\n"
   ]
  },
  {
   "cell_type": "code",
   "execution_count": null,
   "id": "d9627a0f-130f-4a16-a2da-14e85194f999",
   "metadata": {},
   "outputs": [],
   "source": [
    "## Training loop\n",
    "\n",
    "We iterate through the synthetic visits (the dataframe `df`).\n",
    "For each visit:\n",
    "- The bandit chooses a price to offer.\n",
    "- If the chosen price equals the 'true_price' in this synthetic dataset, we can observe the actual conversion result for that visit and compute revenue reward.\n",
    "  - (This mimics observational feedback — if your chosen price doesn't match the logged price, you'd need an environment/simulator\n",
    "    or to do randomized pricing to estimate reward.)\n",
    "- We update the bandit with the observed reward.\n",
    "We also track cumulative revenue and conversions to visualize learning.\n"
   ]
  },
  {
   "cell_type": "code",
   "execution_count": 6,
   "id": "a6710622-3881-4b08-b8e8-b891b731cef1",
   "metadata": {},
   "outputs": [
    {
     "name": "stdout",
     "output_type": "stream",
     "text": [
      "Total visits: 500\n",
      "Cumulative revenue (sim): 3220.0\n",
      "Cumulative conversions (sim): 31\n"
     ]
    }
   ],
   "source": [
    "# Initialize bandit\n",
    "eps = 0.1\n",
    "bandit = EpsilonGreedyBandit(price_levels, eps=eps)\n",
    "\n",
    "# Tracking lists\n",
    "chosen_prices = []\n",
    "rewards = []\n",
    "conversions_observed = []\n",
    "cum_revenue_list = []\n",
    "cum_conv_list = []\n",
    "\n",
    "cum_revenue = 0.0\n",
    "cum_conv = 0\n",
    "\n",
    "# Walk through each synthetic visit\n",
    "for idx, row in df.iterrows():\n",
    "    chosen = bandit.choose_price()\n",
    "    # In this synthetic demo: we only observe reward if our chosen price equals the dataset's true_price.\n",
    "    # If they differ, we do not observe the customer's outcome (we treat as zero feedback here).\n",
    "    # This is a simplified assumption for demo — in a real simulator you'd always get feedback.\n",
    "    if chosen == row['true_price']:\n",
    "        converted = int(row['converted'])\n",
    "        reward = chosen * converted      # revenue = price * units (units=1 if converted)\n",
    "    else:\n",
    "        # no observation in this simple demo -> treat as zero reward (or could skip update)\n",
    "        converted = 0\n",
    "        reward = 0.0\n",
    "\n",
    "    bandit.update(chosen, reward)\n",
    "\n",
    "    cum_revenue += reward\n",
    "    cum_conv += converted\n",
    "\n",
    "    chosen_prices.append(chosen)\n",
    "    rewards.append(reward)\n",
    "    conversions_observed.append(converted)\n",
    "    cum_revenue_list.append(cum_revenue)\n",
    "    cum_conv_list.append(cum_conv)\n",
    "\n",
    "# Summary table\n",
    "results_df = pd.DataFrame({\n",
    "    \"chosen_price\": chosen_prices,\n",
    "    \"reward\": rewards,\n",
    "    \"converted\": conversions_observed,\n",
    "    \"cum_revenue\": cum_revenue_list,\n",
    "    \"cum_conv\": cum_conv_list\n",
    "})\n",
    "\n",
    "print(\"Total visits:\", len(df))\n",
    "print(\"Cumulative revenue (sim):\", cum_revenue)\n",
    "print(\"Cumulative conversions (sim):\", cum_conv)\n"
   ]
  },
  {
   "cell_type": "code",
   "execution_count": null,
   "id": "f28d3fc7-f4fb-4f1f-a719-55a85dd1253e",
   "metadata": {},
   "outputs": [],
   "source": [
    "## Plot: Learned average reward per price\n",
    "\n",
    "Shows what the bandit has learned about each price level (average revenue per time it chose that price).\n"
   ]
  },
  {
   "cell_type": "code",
   "execution_count": 7,
   "id": "13de17b2-ee6b-43be-a40c-e1954ddf718c",
   "metadata": {},
   "outputs": [
    {
     "data": {
      "image/png": "[encoded data removed]",
      "text/plain": [
       "<Figure size 700x400 with 1 Axes>"
      ]
     },
     "metadata": {},
     "output_type": "display_data"
    }
   ],
   "source": [
    "import matplotlib.pyplot as plt\n",
    "\n",
    "avg_reward = bandit.average_rewards()\n",
    "prices_sorted = sorted(avg_reward.keys())\n",
    "avg_values = [avg_reward[p] for p in prices_sorted]\n",
    "\n",
    "plt.figure(figsize=(7,4))\n",
    "plt.bar([str(p) for p in prices_sorted], avg_values)\n",
    "plt.xlabel(\"Price level\")\n",
    "plt.ylabel(\"Average observed reward (revenue)\")\n",
    "plt.title(f\"Epsilon-Greedy (eps={eps}) — Average reward per price\")\n",
    "plt.grid(axis='y', alpha=0.3)\n",
    "plt.show()\n"
   ]
  },
  {
   "cell_type": "code",
   "execution_count": null,
   "id": "cf6b1874-3343-4918-aa6b-8321727f1d98",
   "metadata": {},
   "outputs": [],
   "source": [
    "## Plot: Cumulative revenue and conversions over time\n",
    "\n",
    "These charts help visualize whether the policy is improving revenue/volume as it learns.\n"
   ]
  },
  {
   "cell_type": "code",
   "execution_count": 8,
   "id": "1416ba52-8514-4a14-b479-f2d7958fd1ff",
   "metadata": {},
   "outputs": [
    {
     "data": {
      "image/png": "[encoded data removed]",
      "text/plain": [
       "<Figure size 1000x400 with 2 Axes>"
      ]
     },
     "metadata": {},
     "output_type": "display_data"
    }
   ],
   "source": [
    "fig, ax1 = plt.subplots(figsize=(10,4))\n",
    "ax1.plot(results_df['cum_revenue'], label='Cumulative revenue')\n",
    "ax1.set_xlabel('Time step')\n",
    "ax1.set_ylabel('Cumulative revenue')\n",
    "ax1.legend(loc='upper left')\n",
    "\n",
    "ax2 = ax1.twinx()\n",
    "ax2.plot(results_df['cum_conv'], color='orange', label='Cumulative conversions', alpha=0.8)\n",
    "ax2.set_ylabel('Cumulative conversions')\n",
    "ax2.legend(loc='upper right')\n",
    "\n",
    "plt.title('Cumulative revenue and conversions over time')\n",
    "plt.show()\n"
   ]
  },
  {
   "cell_type": "code",
   "execution_count": 9,
   "id": "452673cb-bdb7-48ad-9295-ab3df7364a14",
   "metadata": {
    "scrolled": true
   },
   "outputs": [
    {
     "ename": "TypeError",
     "evalue": "Object of type int64 is not JSON serializable",
     "output_type": "error",
     "traceback": [
      "\u001b[1;31m---------------------------------------------------------------------------\u001b[0m",
      "\u001b[1;31mTypeError\u001b[0m                                 Traceback (most recent call last)",
      "Cell \u001b[1;32mIn[9], line 11\u001b[0m\n\u001b[0;32m      3\u001b[0m save_obj \u001b[38;5;241m=\u001b[39m {\n\u001b[0;32m      4\u001b[0m     \u001b[38;5;124m\"\u001b[39m\u001b[38;5;124mprices\u001b[39m\u001b[38;5;124m\"\u001b[39m: bandit\u001b[38;5;241m.\u001b[39mprices,\n\u001b[0;32m      5\u001b[0m     \u001b[38;5;124m\"\u001b[39m\u001b[38;5;124mcounts\u001b[39m\u001b[38;5;124m\"\u001b[39m: \u001b[38;5;28mdict\u001b[39m(bandit\u001b[38;5;241m.\u001b[39mcounts),\n\u001b[1;32m   (...)\u001b[0m\n\u001b[0;32m      8\u001b[0m     \u001b[38;5;124m\"\u001b[39m\u001b[38;5;124meps\u001b[39m\u001b[38;5;124m\"\u001b[39m: bandit\u001b[38;5;241m.\u001b[39meps\n\u001b[0;32m      9\u001b[0m }\n\u001b[0;32m     10\u001b[0m \u001b[38;5;28;01mwith\u001b[39;00m \u001b[38;5;28mopen\u001b[39m(\u001b[38;5;124m\"\u001b[39m\u001b[38;5;124mbandit_summary.json\u001b[39m\u001b[38;5;124m\"\u001b[39m,\u001b[38;5;124m\"\u001b[39m\u001b[38;5;124mw\u001b[39m\u001b[38;5;124m\"\u001b[39m) \u001b[38;5;28;01mas\u001b[39;00m f:\n\u001b[1;32m---> 11\u001b[0m     json\u001b[38;5;241m.\u001b[39mdump(save_obj, f, indent\u001b[38;5;241m=\u001b[39m\u001b[38;5;241m2\u001b[39m)\n\u001b[0;32m     13\u001b[0m \u001b[38;5;28mprint\u001b[39m(\u001b[38;5;124m\"\u001b[39m\u001b[38;5;124mSaved bandit_summary.json\u001b[39m\u001b[38;5;124m\"\u001b[39m)\n",
      "File \u001b[1;32m~\\anaconda3\\Lib\\json\\__init__.py:179\u001b[0m, in \u001b[0;36mdump\u001b[1;34m(obj, fp, skipkeys, ensure_ascii, check_circular, allow_nan, cls, indent, separators, default, sort_keys, **kw)\u001b[0m\n\u001b[0;32m    173\u001b[0m     iterable \u001b[38;5;241m=\u001b[39m \u001b[38;5;28mcls\u001b[39m(skipkeys\u001b[38;5;241m=\u001b[39mskipkeys, ensure_ascii\u001b[38;5;241m=\u001b[39mensure_ascii,\n\u001b[0;32m    174\u001b[0m         check_circular\u001b[38;5;241m=\u001b[39mcheck_circular, allow_nan\u001b[38;5;241m=\u001b[39mallow_nan, indent\u001b[38;5;241m=\u001b[39mindent,\n\u001b[0;32m    175\u001b[0m         separators\u001b[38;5;241m=\u001b[39mseparators,\n\u001b[0;32m    176\u001b[0m         default\u001b[38;5;241m=\u001b[39mdefault, sort_keys\u001b[38;5;241m=\u001b[39msort_keys, \u001b[38;5;241m*\u001b[39m\u001b[38;5;241m*\u001b[39mkw)\u001b[38;5;241m.\u001b[39miterencode(obj)\n\u001b[0;32m    177\u001b[0m \u001b[38;5;66;03m# could accelerate with writelines in some versions of Python, at\u001b[39;00m\n\u001b[0;32m    178\u001b[0m \u001b[38;5;66;03m# a debuggability cost\u001b[39;00m\n\u001b[1;32m--> 179\u001b[0m \u001b[38;5;28;01mfor\u001b[39;00m chunk \u001b[38;5;129;01min\u001b[39;00m iterable:\n\u001b[0;32m    180\u001b[0m     fp\u001b[38;5;241m.\u001b[39mwrite(chunk)\n",
      "File \u001b[1;32m~\\anaconda3\\Lib\\json\\encoder.py:433\u001b[0m, in \u001b[0;36m_make_iterencode.<locals>._iterencode\u001b[1;34m(o, _current_indent_level)\u001b[0m\n\u001b[0;32m    431\u001b[0m     \u001b[38;5;28;01myield from\u001b[39;00m _iterencode_list(o, _current_indent_level)\n\u001b[0;32m    432\u001b[0m \u001b[38;5;28;01melif\u001b[39;00m \u001b[38;5;28misinstance\u001b[39m(o, \u001b[38;5;28mdict\u001b[39m):\n\u001b[1;32m--> 433\u001b[0m     \u001b[38;5;28;01myield from\u001b[39;00m _iterencode_dict(o, _current_indent_level)\n\u001b[0;32m    434\u001b[0m \u001b[38;5;28;01melse\u001b[39;00m:\n\u001b[0;32m    435\u001b[0m     \u001b[38;5;28;01mif\u001b[39;00m markers \u001b[38;5;129;01mis\u001b[39;00m \u001b[38;5;129;01mnot\u001b[39;00m \u001b[38;5;28;01mNone\u001b[39;00m:\n",
      "File \u001b[1;32m~\\anaconda3\\Lib\\json\\encoder.py:407\u001b[0m, in \u001b[0;36m_make_iterencode.<locals>._iterencode_dict\u001b[1;34m(dct, _current_indent_level)\u001b[0m\n\u001b[0;32m    405\u001b[0m         \u001b[38;5;28;01melse\u001b[39;00m:\n\u001b[0;32m    406\u001b[0m             chunks \u001b[38;5;241m=\u001b[39m _iterencode(value, _current_indent_level)\n\u001b[1;32m--> 407\u001b[0m         \u001b[38;5;28;01myield from\u001b[39;00m chunks\n\u001b[0;32m    408\u001b[0m \u001b[38;5;28;01mif\u001b[39;00m \u001b[38;5;129;01mnot\u001b[39;00m first \u001b[38;5;129;01mand\u001b[39;00m newline_indent \u001b[38;5;129;01mis\u001b[39;00m \u001b[38;5;129;01mnot\u001b[39;00m \u001b[38;5;28;01mNone\u001b[39;00m:\n\u001b[0;32m    409\u001b[0m     _current_indent_level \u001b[38;5;241m-\u001b[39m\u001b[38;5;241m=\u001b[39m \u001b[38;5;241m1\u001b[39m\n",
      "File \u001b[1;32m~\\anaconda3\\Lib\\json\\encoder.py:326\u001b[0m, in \u001b[0;36m_make_iterencode.<locals>._iterencode_list\u001b[1;34m(lst, _current_indent_level)\u001b[0m\n\u001b[0;32m    324\u001b[0m         \u001b[38;5;28;01melse\u001b[39;00m:\n\u001b[0;32m    325\u001b[0m             chunks \u001b[38;5;241m=\u001b[39m _iterencode(value, _current_indent_level)\n\u001b[1;32m--> 326\u001b[0m         \u001b[38;5;28;01myield from\u001b[39;00m chunks\n\u001b[0;32m    327\u001b[0m \u001b[38;5;28;01mif\u001b[39;00m newline_indent \u001b[38;5;129;01mis\u001b[39;00m \u001b[38;5;129;01mnot\u001b[39;00m \u001b[38;5;28;01mNone\u001b[39;00m:\n\u001b[0;32m    328\u001b[0m     _current_indent_level \u001b[38;5;241m-\u001b[39m\u001b[38;5;241m=\u001b[39m \u001b[38;5;241m1\u001b[39m\n",
      "File \u001b[1;32m~\\anaconda3\\Lib\\json\\encoder.py:440\u001b[0m, in \u001b[0;36m_make_iterencode.<locals>._iterencode\u001b[1;34m(o, _current_indent_level)\u001b[0m\n\u001b[0;32m    438\u001b[0m         \u001b[38;5;28;01mraise\u001b[39;00m \u001b[38;5;167;01mValueError\u001b[39;00m(\u001b[38;5;124m\"\u001b[39m\u001b[38;5;124mCircular reference detected\u001b[39m\u001b[38;5;124m\"\u001b[39m)\n\u001b[0;32m    439\u001b[0m     markers[markerid] \u001b[38;5;241m=\u001b[39m o\n\u001b[1;32m--> 440\u001b[0m o \u001b[38;5;241m=\u001b[39m _default(o)\n\u001b[0;32m    441\u001b[0m \u001b[38;5;28;01myield from\u001b[39;00m _iterencode(o, _current_indent_level)\n\u001b[0;32m    442\u001b[0m \u001b[38;5;28;01mif\u001b[39;00m markers \u001b[38;5;129;01mis\u001b[39;00m \u001b[38;5;129;01mnot\u001b[39;00m \u001b[38;5;28;01mNone\u001b[39;00m:\n",
      "File \u001b[1;32m~\\anaconda3\\Lib\\json\\encoder.py:180\u001b[0m, in \u001b[0;36mJSONEncoder.default\u001b[1;34m(self, o)\u001b[0m\n\u001b[0;32m    161\u001b[0m \u001b[38;5;28;01mdef\u001b[39;00m\u001b[38;5;250m \u001b[39m\u001b[38;5;21mdefault\u001b[39m(\u001b[38;5;28mself\u001b[39m, o):\n\u001b[0;32m    162\u001b[0m \u001b[38;5;250m    \u001b[39m\u001b[38;5;124;03m\"\"\"Implement this method in a subclass such that it returns\u001b[39;00m\n\u001b[0;32m    163\u001b[0m \u001b[38;5;124;03m    a serializable object for ``o``, or calls the base implementation\u001b[39;00m\n\u001b[0;32m    164\u001b[0m \u001b[38;5;124;03m    (to raise a ``TypeError``).\u001b[39;00m\n\u001b[1;32m   (...)\u001b[0m\n\u001b[0;32m    178\u001b[0m \n\u001b[0;32m    179\u001b[0m \u001b[38;5;124;03m    \"\"\"\u001b[39;00m\n\u001b[1;32m--> 180\u001b[0m     \u001b[38;5;28;01mraise\u001b[39;00m \u001b[38;5;167;01mTypeError\u001b[39;00m(\u001b[38;5;124mf\u001b[39m\u001b[38;5;124m'\u001b[39m\u001b[38;5;124mObject of type \u001b[39m\u001b[38;5;132;01m{\u001b[39;00mo\u001b[38;5;241m.\u001b[39m\u001b[38;5;18m__class__\u001b[39m\u001b[38;5;241m.\u001b[39m\u001b[38;5;18m__name__\u001b[39m\u001b[38;5;132;01m}\u001b[39;00m\u001b[38;5;124m \u001b[39m\u001b[38;5;124m'\u001b[39m\n\u001b[0;32m    181\u001b[0m                     \u001b[38;5;124mf\u001b[39m\u001b[38;5;124m'\u001b[39m\u001b[38;5;124mis not JSON serializable\u001b[39m\u001b[38;5;124m'\u001b[39m)\n",
      "\u001b[1;31mTypeError\u001b[0m: Object of type int64 is not JSON serializable"
     ]
    }
   ],
   "source": [
    "# Optional: save bandit stats locally (counts & rewards) for reuse\n",
    "import json\n",
    "save_obj = {\n",
    "    \"prices\": bandit.prices,\n",
    "    \"counts\": dict(bandit.counts),\n",
    "    \"sum_rewards\": dict(bandit.rewards),\n",
    "    \"avg_rewards\": bandit.average_rewards(),\n",
    "    \"eps\": bandit.eps\n",
    "}\n",
    "with open(\"bandit_summary.json\",\"w\") as f:\n",
    "    json.dump(save_obj, f, indent=2)\n",
    "\n",
    "print(\"Saved bandit_summary.json\")\n"
   ]
  },
  {
   "cell_type": "code",
   "execution_count": null,
   "id": "96eefcfe-ee4b-490f-bec9-9db312a40ae0",
   "metadata": {},
   "outputs": [],
   "source": [
    "## Quick interpretation & next steps\n",
    "\n",
    "**What to look for**\n",
    "- Bars in the average reward plot show which price produced higher revenue per selection.\n",
    "- Cumulative revenue plot shows total revenue the policy has collected during the simulated run.\n",
    "\n",
    "**Extensions (easy to explain in interviews)**\n",
    "- Replace the observational setup with a proper **simulator** (so you always get feedback for chosen price).\n",
    "- Try **LinUCB** or **Thompson Sampling** (contextual or Bayesian alternatives).\n",
    "- Use **reward = w_profit * revenue + w_conv * converted** to balance objectives.\n",
    "- Deploy the trained policy from notebook into the Streamlit app to demo realtime decisions.\n"
   ]
  },
  {
   "cell_type": "code",
   "execution_count": 10,
   "id": "adb5993a-bbe6-47ba-8943-139de40df4ae",
   "metadata": {},
   "outputs": [
    {
     "ename": "SyntaxError",
     "evalue": "invalid syntax (2905289014.py, line 1)",
     "output_type": "error",
     "traceback": [
      "\u001b[1;36m  Cell \u001b[1;32mIn[10], line 1\u001b[1;36m\u001b[0m\n\u001b[1;33m    pip install streamlit pandas numpy matplotlib\u001b[0m\n\u001b[1;37m        ^\u001b[0m\n\u001b[1;31mSyntaxError\u001b[0m\u001b[1;31m:\u001b[0m invalid syntax\n"
     ]
    }
   ],
   "source": [
    "pip install streamlit pandas numpy matplotlib\n",
    "streamlit run streamlit_app.py\n"
   ]
  },
  {
   "cell_type": "code",
   "execution_count": null,
   "id": "6e8614a4-d73e-4a1c-9dcd-48ff79d23c43",
   "metadata": {},
   "outputs": [],
   "source": []
  }
 ],
 "metadata": {
  "kernelspec": {
   "display_name": "Python 3 (ipykernel)",
   "language": "python",
   "name": "python3"
  },
  "language_info": {
   "codemirror_mode": {
    "name": "ipython",
    "version": 3
   },
   "file_extension": ".py",
   "mimetype": "text/x-python",
   "name": "python",
   "nbconvert_exporter": "python",
   "pygments_lexer": "ipython3",
   "version": "3.13.5"
  }
 },
 "nbformat": 4,
 "nbformat_minor": 5
}
